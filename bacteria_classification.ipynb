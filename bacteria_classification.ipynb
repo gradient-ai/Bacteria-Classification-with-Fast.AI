{
 "cells": [
  {
   "cell_type": "markdown",
   "metadata": {},
   "source": [
    "#  Building a State of the Art Bacterial Classifier with fast.ai\n",
    "\n",
    "The fast.ai library has been breaking records as students use it to produce state of the art results on a myriad of tasks. Some examples given in the course include environmental sound classification and handwritten devanagari prediction.\n",
    "\n",
    "In this notebook we'll use the library for state of the art bacteria classification with the [DIBaS dataset](http://misztal.edu.pl/software/databases/dibas/). DIBaS (Digital Image of Bacterial Species) contains 660 images, with 33 different genera and species of bacteria.\n",
    "\n",
    "You can also check out the full blog post on [Building a Bacterial Classifier with fast.ai](https://blog.paperspace.com/building-a-state-of-the-art-bacterial-classifier-with-paperspace-gradient-and-fast-ai/) by Harsh Sikka."
   ]
  },
  {
   "cell_type": "markdown",
   "metadata": {},
   "source": [
    "## Load libraries"
   ]
  },
  {
   "cell_type": "code",
   "execution_count": 1,
   "metadata": {},
   "outputs": [],
   "source": [
    "import os\n",
    "import requests\n",
    "import urllib.request\n",
    "import zipfile\n",
    "import matplotlib.pyplot as plt\n",
    "from fastai.vision import *\n",
    "from fastai.metrics import error_rate\n",
    "from bs4 import BeautifulSoup"
   ]
  },
  {
   "cell_type": "markdown",
   "metadata": {},
   "source": [
    "## Download and extract bacteria dataset"
   ]
  },
  {
   "cell_type": "code",
   "execution_count": 2,
   "metadata": {},
   "outputs": [],
   "source": [
    "if not os.path.exists('./storage/dibas_zips'):\n",
    "    os.makedirs('./storage/dibas_zips')\n",
    "\n",
    "if not os.path.exists('./storage/dibas_images'):\n",
    "    os.makedirs('./storage/dibas_images')"
   ]
  },
  {
   "cell_type": "code",
   "execution_count": 3,
   "metadata": {},
   "outputs": [],
   "source": [
    "# Parse the webpage; images are saved in a separate .zip file for each strain of bacteria\n",
    "url = 'http://misztal.edu.pl/software/databases/dibas/'\n",
    "response = requests.get(url)\n",
    "soup = BeautifulSoup(response.text, \"html.parser\")"
   ]
  },
  {
   "cell_type": "code",
   "execution_count": 4,
   "metadata": {},
   "outputs": [
    {
     "name": "stdout",
     "output_type": "stream",
     "text": [
      "Downloaded and extracted: Acinetobacter.baumanii.zip\n",
      "Downloaded and extracted: Actinomyces.israeli.zip\n",
      "Downloaded and extracted: Bacteroides.fragilis.zip\n",
      "Downloaded and extracted: Bifidobacterium.spp.zip\n",
      "Downloaded and extracted: Candida.albicans.zip\n",
      "Downloaded and extracted: Clostridium.perfringens.zip\n",
      "Downloaded and extracted: Enterococcus.faecium.zip\n",
      "Downloaded and extracted: Enterococcus.faecalis.zip\n",
      "Downloaded and extracted: Escherichia.coli.zip\n",
      "Downloaded and extracted: Fusobacterium.zip\n",
      "Downloaded and extracted: Lactobacillus.casei.zip\n",
      "Downloaded and extracted: Lactobacillus.crispatus.zip\n",
      "Downloaded and extracted: Lactobacillus.delbrueckii.zip\n",
      "Downloaded and extracted: Lactobacillus.gasseri.zip\n",
      "Downloaded and extracted: Lactobacillus.jehnsenii.zip\n",
      "Downloaded and extracted: Lactobacillus.johnsonii.zip\n",
      "Downloaded and extracted: Lactobacillus.paracasei.zip\n",
      "Downloaded and extracted: Lactobacillus.plantarum.zip\n",
      "Downloaded and extracted: Lactobacillus.reuteri.zip\n",
      "Downloaded and extracted: Lactobacillus.rhamnosus.zip\n",
      "Downloaded and extracted: Lactobacillus.salivarius.zip\n",
      "Downloaded and extracted: Listeria.monocytogenes.zip\n",
      "Downloaded and extracted: Micrococcus.spp.zip\n",
      "Downloaded and extracted: Neisseria.gonorrhoeae.zip\n",
      "Downloaded and extracted: Porfyromonas.gingivalis.zip\n",
      "Downloaded and extracted: Propionibacterium.acnes.zip\n",
      "Downloaded and extracted: Proteus.zip\n",
      "Downloaded and extracted: Pseudomonas.aeruginosa.zip\n",
      "Downloaded and extracted: Staphylococcus.aureus.zip\n",
      "Downloaded and extracted: Staphylococcus.epidermidis.zip\n",
      "Downloaded and extracted: Staphylococcus.saprophiticus.zip\n",
      "Downloaded and extracted: Streptococcus.agalactiae.zip\n",
      "Downloaded and extracted: Veionella.zip\n"
     ]
    }
   ],
   "source": [
    "links = [tag['href'] for tag in soup.findAll('a')]\n",
    "\n",
    "for link in links:\n",
    "    if \".zip\" in link:\n",
    "        file_name = link.partition(\"/dibas/\")[2]\n",
    "        urllib.request.urlretrieve(link, './storage/dibas_zips/' + file_name) \n",
    "        zip_ref = zipfile.ZipFile('./storage/dibas_zips/' + file_name, 'r')\n",
    "        zip_ref.extractall('./storage/dibas_images/')   \n",
    "        zip_ref.close()\n",
    "        print(\"Downloaded and extracted: \" + file_name)"
   ]
  },
  {
   "cell_type": "code",
   "execution_count": 2,
   "metadata": {},
   "outputs": [
    {
     "data": {
      "text/plain": [
       "673"
      ]
     },
     "execution_count": 2,
     "metadata": {},
     "output_type": "execute_result"
    }
   ],
   "source": [
    "len(os.listdir(('./storage/dibas_images/')))"
   ]
  },
  {
   "cell_type": "markdown",
   "metadata": {},
   "source": [
    "## Verify images"
   ]
  },
  {
   "cell_type": "code",
   "execution_count": 3,
   "metadata": {},
   "outputs": [
    {
     "data": {
      "text/html": [
       "\n",
       "    <div>\n",
       "        <style>\n",
       "            /* Turns off some styling */\n",
       "            progress {\n",
       "                /* gets rid of default border in Firefox and Opera. */\n",
       "                border: none;\n",
       "                /* Needs to be in here for Safari polyfill so background images work as expected. */\n",
       "                background-size: auto;\n",
       "            }\n",
       "            .progress-bar-interrupted, .progress-bar-interrupted::-webkit-progress-bar {\n",
       "                background: #F44336;\n",
       "            }\n",
       "        </style>\n",
       "      <progress value='672' class='' max='672', style='width:300px; height:20px; vertical-align: middle;'></progress>\n",
       "      100.00% [672/672 00:29<00:00]\n",
       "    </div>\n",
       "    "
      ],
      "text/plain": [
       "<IPython.core.display.HTML object>"
      ]
     },
     "metadata": {},
     "output_type": "display_data"
    },
    {
     "name": "stdout",
     "output_type": "stream",
     "text": [
      "storage/dibas_images/Micrococcus.spp_0021.tif: Removing corrupt EXIF data\n",
      "cannot identify image file '/storage/dibas_images/Micrococcus.spp_0021.tif'\n",
      "cannot identify image file <_io.BufferedReader name='storage/dibas_images/Micrococcus.spp_0023.tif'>\n",
      "cannot identify image file <_io.BufferedReader name='storage/dibas_images/Listeria.monocytogenes_0023.tif'>\n"
     ]
    }
   ],
   "source": [
    "verify_images('./storage/dibas_images/', delete=True, max_size=500)"
   ]
  },
  {
   "cell_type": "markdown",
   "metadata": {},
   "source": [
    "## Train our model"
   ]
  },
  {
   "cell_type": "code",
   "execution_count": 2,
   "metadata": {},
   "outputs": [
    {
     "data": {
      "text/plain": [
       "[PosixPath('storage/dibas_images/Escherichia.coli_0005.tif'),\n",
       " PosixPath('storage/dibas_images/Propionibacterium.acnes_0009.tif'),\n",
       " PosixPath('storage/dibas_images/Streptococcus.agalactiae_0003.tif'),\n",
       " PosixPath('storage/dibas_images/Lactobacillus.plantarum_0005.tif'),\n",
       " PosixPath('storage/dibas_images/Propionibacterium.acnes_0019.tif')]"
      ]
     },
     "execution_count": 2,
     "metadata": {},
     "output_type": "execute_result"
    }
   ],
   "source": [
    "bs = 64\n",
    "fnames = get_image_files('./storage/dibas_images/')\n",
    "fnames[:5]"
   ]
  },
  {
   "cell_type": "code",
   "execution_count": 3,
   "metadata": {},
   "outputs": [],
   "source": [
    "np.random.seed(42)\n",
    "pat = r'/([^/]+)_\\d+.tif$'\n",
    "data = ImageDataBunch.from_name_re('bacteria-dataset/full_images_alt', fnames, pat, ds_tfms=get_transforms(), size=224, bs=bs).normalize(imagenet_stats)"
   ]
  },
  {
   "cell_type": "code",
   "execution_count": 4,
   "metadata": {},
   "outputs": [],
   "source": [
    "learn = create_cnn(data, models.resnet34, metrics=error_rate)"
   ]
  },
  {
   "cell_type": "code",
   "execution_count": 5,
   "metadata": {},
   "outputs": [
    {
     "data": {
      "text/html": [
       "Total time: 00:23 <p><table style='width:300px; margin-bottom:10px'>\n",
       "  <tr>\n",
       "    <th>epoch</th>\n",
       "    <th>train_loss</th>\n",
       "    <th>valid_loss</th>\n",
       "    <th>error_rate</th>\n",
       "  </tr>\n",
       "  <tr>\n",
       "    <th>1</th>\n",
       "    <th>3.660002</th>\n",
       "    <th>3.079889</th>\n",
       "    <th>0.744361</th>\n",
       "  </tr>\n",
       "  <tr>\n",
       "    <th>2</th>\n",
       "    <th>2.487222</th>\n",
       "    <th>1.224737</th>\n",
       "    <th>0.270677</th>\n",
       "  </tr>\n",
       "  <tr>\n",
       "    <th>3</th>\n",
       "    <th>1.817865</th>\n",
       "    <th>0.596912</th>\n",
       "    <th>0.157895</th>\n",
       "  </tr>\n",
       "  <tr>\n",
       "    <th>4</th>\n",
       "    <th>1.429206</th>\n",
       "    <th>0.482402</th>\n",
       "    <th>0.135338</th>\n",
       "  </tr>\n",
       "</table>\n"
      ],
      "text/plain": [
       "<IPython.core.display.HTML object>"
      ]
     },
     "metadata": {},
     "output_type": "display_data"
    }
   ],
   "source": [
    "learn.fit_one_cycle(4)"
   ]
  },
  {
   "cell_type": "markdown",
   "metadata": {},
   "source": [
    "## Find optimal learning rate"
   ]
  },
  {
   "cell_type": "code",
   "execution_count": 6,
   "metadata": {},
   "outputs": [
    {
     "name": "stdout",
     "output_type": "stream",
     "text": [
      "LR Finder is complete, type {learner_name}.recorder.plot() to see the graph.\n"
     ]
    },
    {
     "data": {
      "image/png": "[encoded data removed]",
      "text/plain": [
       "<Figure size 432x288 with 1 Axes>"
      ]
     },
     "metadata": {
      "needs_background": "light"
     },
     "output_type": "display_data"
    }
   ],
   "source": [
    "learn = create_cnn(data, models.resnet50, metrics=error_rate)\n",
    "learn.lr_find()\n",
    "learn.recorder.plot()"
   ]
  },
  {
   "cell_type": "code",
   "execution_count": 7,
   "metadata": {},
   "outputs": [
    {
     "data": {
      "text/html": [
       "Total time: 00:55 <p><table style='width:300px; margin-bottom:10px'>\n",
       "  <tr>\n",
       "    <th>epoch</th>\n",
       "    <th>train_loss</th>\n",
       "    <th>valid_loss</th>\n",
       "    <th>error_rate</th>\n",
       "  </tr>\n",
       "  <tr>\n",
       "    <th>1</th>\n",
       "    <th>3.332049</th>\n",
       "    <th>2.929144</th>\n",
       "    <th>0.721804</th>\n",
       "  </tr>\n",
       "  <tr>\n",
       "    <th>2</th>\n",
       "    <th>2.139436</th>\n",
       "    <th>0.842049</th>\n",
       "    <th>0.210526</th>\n",
       "  </tr>\n",
       "  <tr>\n",
       "    <th>3</th>\n",
       "    <th>1.476930</th>\n",
       "    <th>0.358044</th>\n",
       "    <th>0.112782</th>\n",
       "  </tr>\n",
       "  <tr>\n",
       "    <th>4</th>\n",
       "    <th>1.114299</th>\n",
       "    <th>0.246035</th>\n",
       "    <th>0.067669</th>\n",
       "  </tr>\n",
       "  <tr>\n",
       "    <th>5</th>\n",
       "    <th>0.891746</th>\n",
       "    <th>0.227113</th>\n",
       "    <th>0.075188</th>\n",
       "  </tr>\n",
       "  <tr>\n",
       "    <th>6</th>\n",
       "    <th>0.730079</th>\n",
       "    <th>0.210805</th>\n",
       "    <th>0.052632</th>\n",
       "  </tr>\n",
       "  <tr>\n",
       "    <th>7</th>\n",
       "    <th>0.608487</th>\n",
       "    <th>0.191650</th>\n",
       "    <th>0.037594</th>\n",
       "  </tr>\n",
       "  <tr>\n",
       "    <th>8</th>\n",
       "    <th>0.521280</th>\n",
       "    <th>0.189312</th>\n",
       "    <th>0.045113</th>\n",
       "  </tr>\n",
       "</table>\n"
      ],
      "text/plain": [
       "<IPython.core.display.HTML object>"
      ]
     },
     "metadata": {},
     "output_type": "display_data"
    }
   ],
   "source": [
    "learn.fit_one_cycle(8)"
   ]
  },
  {
   "cell_type": "code",
   "execution_count": 8,
   "metadata": {},
   "outputs": [
    {
     "data": {
      "text/html": [
       "Total time: 00:24 <p><table style='width:300px; margin-bottom:10px'>\n",
       "  <tr>\n",
       "    <th>epoch</th>\n",
       "    <th>train_loss</th>\n",
       "    <th>valid_loss</th>\n",
       "    <th>error_rate</th>\n",
       "  </tr>\n",
       "  <tr>\n",
       "    <th>1</th>\n",
       "    <th>0.177736</th>\n",
       "    <th>0.188096</th>\n",
       "    <th>0.030075</th>\n",
       "  </tr>\n",
       "  <tr>\n",
       "    <th>2</th>\n",
       "    <th>0.176430</th>\n",
       "    <th>0.178587</th>\n",
       "    <th>0.030075</th>\n",
       "  </tr>\n",
       "  <tr>\n",
       "    <th>3</th>\n",
       "    <th>0.161877</th>\n",
       "    <th>0.177092</th>\n",
       "    <th>0.030075</th>\n",
       "  </tr>\n",
       "</table>\n"
      ],
      "text/plain": [
       "<IPython.core.display.HTML object>"
      ]
     },
     "metadata": {},
     "output_type": "display_data"
    }
   ],
   "source": [
    "learn.save('stage-1-50')\n",
    "learn.unfreeze()\n",
    "learn.fit_one_cycle(3, max_lr=slice(1e-6,1e-4))"
   ]
  },
  {
   "cell_type": "code",
   "execution_count": null,
   "metadata": {},
   "outputs": [],
   "source": []
  }
 ],
 "metadata": {
  "kernelspec": {
   "display_name": "Python 3",
   "language": "python",
   "name": "python3"
  },
  "language_info": {
   "codemirror_mode": {
    "name": "ipython",
    "version": 3
   },
   "file_extension": ".py",
   "mimetype": "text/x-python",
   "name": "python",
   "nbconvert_exporter": "python",
   "pygments_lexer": "ipython3",
   "version": "3.6.7"
  }
 },
 "nbformat": 4,
 "nbformat_minor": 2
}
